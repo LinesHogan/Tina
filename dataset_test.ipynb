{
 "cells": [
  {
   "cell_type": "code",
   "execution_count": 1,
   "id": "726acd14",
   "metadata": {},
   "outputs": [
    {
     "name": "stderr",
     "output_type": "stream",
     "text": [
      "/home/yuanhao/open-r1/openr1/lib/python3.11/site-packages/tqdm/auto.py:21: TqdmWarning: IProgress not found. Please update jupyter and ipywidgets. See https://ipywidgets.readthedocs.io/en/stable/user_install.html\n",
      "  from .autonotebook import tqdm as notebook_tqdm\n",
      "Repo card metadata block was not found. Setting CardData to empty.\n",
      "Generating train split: 100%|██████████| 1389/1389 [00:00<00:00, 116210.97 examples/s]\n"
     ]
    }
   ],
   "source": [
    "from datasets import load_dataset\n",
    "\n",
    "dataset = load_dataset(\"GAIR/LIMR\", split=\"train\")"
   ]
  },
  {
   "cell_type": "code",
   "execution_count": 8,
   "id": "ef51c4ee",
   "metadata": {},
   "outputs": [
    {
     "data": {
      "text/plain": [
       "Dataset({\n",
       "    features: ['id', 'prompt', 'answer', 'source'],\n",
       "    num_rows: 1389\n",
       "})"
      ]
     },
     "execution_count": 8,
     "metadata": {},
     "output_type": "execute_result"
    }
   ],
   "source": [
    "dataset"
   ]
  },
  {
   "cell_type": "code",
   "execution_count": 10,
   "id": "f4bf14e1",
   "metadata": {},
   "outputs": [
    {
     "data": {
      "text/plain": [
       "['For how many integer values of $x$ is $5x^{2}+19x+16 > 20$ not satisfied?',\n",
       " 'An octahedron consists of two square-based pyramids glued together along their square bases to form a polyhedron with eight faces. Imagine an ant that begins at the top vertex and walks to one of the four adjacent vertices that he randomly selects and calls vertex A. From vertex A, he will then walk to one of the four adjacent vertices that he randomly selects and calls vertex B. What is the probability that vertex B will be the bottom vertex? Express your answer as a common fraction.\\n\\n[asy]\\ndraw((-10,0)--(10,0)--(3,-15)--cycle);\\ndraw((-10,0)--(10,0)--(3,15)--cycle);\\ndraw((10,0)--(17,7)--(3,-15)--(17,7)--(3,15));\\ndraw((-3,7)--(3,15)--(-3,7)--(17,7)--(-3,7)--(-10,0)--(-3,7)--(3,-15),dashed);\\n[/asy]',\n",
       " 'Find the sum of the coefficients in the polynomial $3(3x^{7} + 8x^4 - 7) + 7(x^5 - 7x^2 + 5)$ when it is fully simplified.',\n",
       " 'A function $f$ is defined on the complex numbers by $f(z)=(a+bi)z,$ where $a$ and $b$ are positive numbers. This function has the property that for each complex number $z$, $f(z)$ is equidistant from both $z$ and the origin. Given that $|a+bi|=8$, find $b^2.$',\n",
       " 'How many three digit numbers are left if we exclude all three digit numbers in which there are exactly two digits the same, but these two digits are not adjacent?']"
      ]
     },
     "execution_count": 10,
     "metadata": {},
     "output_type": "execute_result"
    }
   ],
   "source": [
    "dataset['prompt'][:5]"
   ]
  },
  {
   "cell_type": "code",
   "execution_count": 11,
   "id": "0033ce8c",
   "metadata": {},
   "outputs": [
    {
     "data": {
      "text/plain": [
       "['5', '\\\\frac{1}{4}', '5', '\\\\frac{255}{4}', '819']"
      ]
     },
     "execution_count": 11,
     "metadata": {},
     "output_type": "execute_result"
    }
   ],
   "source": [
    "dataset['answer'][:5]"
   ]
  },
  {
   "cell_type": "code",
   "execution_count": 13,
   "id": "ed838c17",
   "metadata": {},
   "outputs": [
    {
     "data": {
      "text/plain": [
       "1"
      ]
     },
     "execution_count": 13,
     "metadata": {},
     "output_type": "execute_result"
    }
   ],
   "source": [
    "len(set(dataset['source']))"
   ]
  }
 ],
 "metadata": {
  "kernelspec": {
   "display_name": "openr1",
   "language": "python",
   "name": "python3"
  },
  "language_info": {
   "codemirror_mode": {
    "name": "ipython",
    "version": 3
   },
   "file_extension": ".py",
   "mimetype": "text/x-python",
   "name": "python",
   "nbconvert_exporter": "python",
   "pygments_lexer": "ipython3",
   "version": "3.11.11"
  }
 },
 "nbformat": 4,
 "nbformat_minor": 5
}
